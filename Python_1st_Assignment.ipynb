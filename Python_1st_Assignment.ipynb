{
 "cells": [
  {
   "cell_type": "markdown",
   "id": "5d477dbc-1334-49c4-9e45-6c6a5e218383",
   "metadata": {},
   "source": [
    "1. Declare two variables, `x` and `y`, and assign them integer values.\n",
    "Swap the values of these variables without using any temporary\n",
    "variable."
   ]
  },
  {
   "cell_type": "code",
   "execution_count": 9,
   "id": "fea9d456-b9bd-4b70-a037-8cc7711b1da1",
   "metadata": {},
   "outputs": [
    {
     "name": "stdout",
     "output_type": "stream",
     "text": [
      "Before swapping: \n",
      "Value of x :  10  and y :  5\n"
     ]
    }
   ],
   "source": [
    "x = 10\n",
    "y = 5\n",
    " \n",
    "print (\"Before swapping: \")\n",
    "print(\"Value of x : \", x, \" and y : \", y)"
   ]
  },
  {
   "cell_type": "code",
   "execution_count": 10,
   "id": "9b5a9b5f-56d3-4de5-8fd4-58bea63dc91b",
   "metadata": {},
   "outputs": [],
   "source": [
    "x = x + y \n",
    "y = x - y \n",
    "x = x - y "
   ]
  },
  {
   "cell_type": "code",
   "execution_count": 13,
   "id": "8e3dc8f9-02d9-4251-a359-cdf98f847e28",
   "metadata": {},
   "outputs": [
    {
     "name": "stdout",
     "output_type": "stream",
     "text": [
      "After swapping: \n",
      "Value of x :  5  and y :  10\n"
     ]
    }
   ],
   "source": [
    "print (\"Post swapping: \")\n",
    "print(\"Value of x : \", x, \" and y : \", y)"
   ]
  },
  {
   "cell_type": "markdown",
   "id": "fb316c49-fbf8-4220-8a53-ee0672d2b614",
   "metadata": {},
   "source": [
    "Create a program that calculates the area of a rectangle. Take the\n",
    "length and width as inputs from the user and store them in variables.\n",
    "Calculate and display the area."
   ]
  },
  {
   "cell_type": "code",
   "execution_count": 16,
   "id": "c04a6c0f-632d-425f-8c88-4ad517ca70cf",
   "metadata": {},
   "outputs": [
    {
     "name": "stdin",
     "output_type": "stream",
     "text": [
      "Please enter the length: 10.3\n"
     ]
    }
   ],
   "source": [
    "length = float(input(\"Please enter the length:\"))"
   ]
  },
  {
   "cell_type": "code",
   "execution_count": 17,
   "id": "d2f7e567-3dfa-45b9-8034-bc9ebfa571e6",
   "metadata": {},
   "outputs": [
    {
     "name": "stdin",
     "output_type": "stream",
     "text": [
      "Please enter the width: 20.5\n"
     ]
    }
   ],
   "source": [
    "width = float(input(\"Please enter the width:\"))"
   ]
  },
  {
   "cell_type": "code",
   "execution_count": 18,
   "id": "2d5bedc4-1baa-4c10-b756-699f3dcf722a",
   "metadata": {},
   "outputs": [],
   "source": [
    "area = length*width"
   ]
  },
  {
   "cell_type": "code",
   "execution_count": 19,
   "id": "471e1941-7380-472f-9919-5bb459ef13bb",
   "metadata": {},
   "outputs": [
    {
     "name": "stdout",
     "output_type": "stream",
     "text": [
      "The area of the rectangle is : 211.15\n"
     ]
    }
   ],
   "source": [
    "print(\"The area of the rectangle is :\",area)"
   ]
  },
  {
   "cell_type": "markdown",
   "id": "ca0a7a51-d5d4-41c3-a165-6a24623ea1e1",
   "metadata": {},
   "source": [
    "Write a Python program that converts temperature from Celsius to\n",
    "Fahrenheit. Take the temperature in Celsius as input, store it in a\n",
    "variable, convert it to Fahrenheit, and display the result."
   ]
  },
  {
   "cell_type": "code",
   "execution_count": 22,
   "id": "ab8aa7b6-26ea-46d6-8176-34d96b96360c",
   "metadata": {},
   "outputs": [
    {
     "name": "stdin",
     "output_type": "stream",
     "text": [
      "Please enter the temparature in Fahrenheit: 22\n"
     ]
    }
   ],
   "source": [
    "Celsius = float(input(\"Please enter the temparature in Fahrenheit:\"))"
   ]
  },
  {
   "cell_type": "code",
   "execution_count": 24,
   "id": "049213e4-ea9d-4ee7-814c-dac7c1d20807",
   "metadata": {},
   "outputs": [],
   "source": [
    "fahrenheit_t = (Celsius*1.8)+32"
   ]
  },
  {
   "cell_type": "code",
   "execution_count": 36,
   "id": "4dc0b01b-0265-469e-9953-53bb1ac3a129",
   "metadata": {},
   "outputs": [
    {
     "name": "stdout",
     "output_type": "stream",
     "text": [
      "The Fahrenheit equivalent of  22.0 celsius is 71.6 F\n"
     ]
    }
   ],
   "source": [
    "print(\"The Fahrenheit equivalent of \",Celsius,\"celsius is\" , fahrenheit_t,\"F\")"
   ]
  },
  {
   "cell_type": "markdown",
   "id": "6dc13e7b-c7ac-4a74-bfa4-efcfd00140a0",
   "metadata": {},
   "source": [
    "Write a Python program that takes a string as input and prints the\n",
    "length of the string."
   ]
  },
  {
   "cell_type": "code",
   "execution_count": 2,
   "id": "71dacb6e-e8ea-4acc-a435-6dbe081eb396",
   "metadata": {},
   "outputs": [
    {
     "name": "stdin",
     "output_type": "stream",
     "text": [
      "Please enter a string: rakesh\n"
     ]
    }
   ],
   "source": [
    "String  = input(\"Please enter a string:\")"
   ]
  },
  {
   "cell_type": "code",
   "execution_count": 5,
   "id": "9a90ba0f-40d2-4297-9da3-e19923b246f2",
   "metadata": {},
   "outputs": [
    {
     "name": "stdout",
     "output_type": "stream",
     "text": [
      "The length of the string entered is: 6\n"
     ]
    }
   ],
   "source": [
    "print(\"The length of the string entered is:\",len(String))"
   ]
  },
  {
   "cell_type": "markdown",
   "id": "268e7ba8-dfbb-4954-be11-50ca5a01ff59",
   "metadata": {},
   "source": [
    "Create a program that takes a sentence from the user and counts the\n",
    "number of vowels (a, e, i, o, u) in the string."
   ]
  },
  {
   "cell_type": "code",
   "execution_count": 12,
   "id": "9d4b0b1b-84f4-48a6-aa2e-17ba8e40e810",
   "metadata": {},
   "outputs": [
    {
     "name": "stdin",
     "output_type": "stream",
     "text": [
      "Enter string: my name is rakesh\n"
     ]
    }
   ],
   "source": [
    "sen = input(\"Enter string:\")"
   ]
  },
  {
   "cell_type": "code",
   "execution_count": 14,
   "id": "a4bbfe81-1432-4b63-a217-dd9fa0babc47",
   "metadata": {},
   "outputs": [
    {
     "name": "stdout",
     "output_type": "stream",
     "text": [
      "Number of vowels are: 5\n"
     ]
    }
   ],
   "source": [
    "vowels=0\n",
    "for i in sen:\n",
    "    if(i=='a' or i=='e' or i=='i' or i=='o' or i=='u' or i=='A' or i=='E' or i=='I' or i=='O' or i=='U'):\n",
    "        vowels=vowels+1\n",
    "print(\"Number of vowels are:\",vowels)\n"
   ]
  },
  {
   "cell_type": "markdown",
   "id": "f6fced23-b542-424d-9d9d-5269ede2be24",
   "metadata": {},
   "source": [
    "Given a string, reverse the order of characters using string slicing and\n",
    "print the reversed string."
   ]
  },
  {
   "cell_type": "code",
   "execution_count": 59,
   "id": "734b5d2c-2b9e-48f5-8776-f3ece613932d",
   "metadata": {},
   "outputs": [
    {
     "name": "stdin",
     "output_type": "stream",
     "text": [
      "input a string: rakesh\n"
     ]
    }
   ],
   "source": [
    "string =  input(\"input a string:\")"
   ]
  },
  {
   "cell_type": "code",
   "execution_count": 60,
   "id": "da3fe7fd-88a4-4b49-a209-bf00a1fe00f8",
   "metadata": {},
   "outputs": [],
   "source": [
    "string = string[::-1]"
   ]
  },
  {
   "cell_type": "code",
   "execution_count": 61,
   "id": "b39770a9-2545-407b-a850-cbf390c2294d",
   "metadata": {},
   "outputs": [
    {
     "name": "stdout",
     "output_type": "stream",
     "text": [
      "reverse of the string is: hsekar\n"
     ]
    }
   ],
   "source": [
    "print(\"reverse of the string is:\",string)"
   ]
  },
  {
   "cell_type": "markdown",
   "id": "20512cbc-9371-48c4-9993-8982a3aec167",
   "metadata": {},
   "source": [
    "Write a program that takes a string as input and checks if it is a\n",
    "palindrome (reads the same forwards and backwards)."
   ]
  },
  {
   "cell_type": "code",
   "execution_count": 78,
   "id": "227cbe1d-c46e-44a9-9bc9-0c00fbb90ea6",
   "metadata": {},
   "outputs": [
    {
     "name": "stdin",
     "output_type": "stream",
     "text": [
      "Please enter the string required for palindrome check: rar\n"
     ]
    }
   ],
   "source": [
    "pal = input(\"Please enter the string required for palindrome check:\")"
   ]
  },
  {
   "cell_type": "code",
   "execution_count": 79,
   "id": "0c7c7bc9-d837-456a-9d9f-3f35ba3fabd6",
   "metadata": {},
   "outputs": [],
   "source": [
    "pal = pal.upper()"
   ]
  },
  {
   "cell_type": "code",
   "execution_count": 80,
   "id": "d8063baa-6702-4511-98d9-77a849e0c81c",
   "metadata": {},
   "outputs": [],
   "source": [
    "pal1 = pal[::-1]"
   ]
  },
  {
   "cell_type": "code",
   "execution_count": 81,
   "id": "a2cc0451-c18e-42df-8e3f-b2681279b5e6",
   "metadata": {},
   "outputs": [
    {
     "name": "stdout",
     "output_type": "stream",
     "text": [
      "The string is palindrome\n"
     ]
    }
   ],
   "source": [
    "if (pal1 == pal):\n",
    "    print(\"The string is palindrome\")\n",
    "else:\n",
    "    print(\"The string is not palindrome\")"
   ]
  },
  {
   "cell_type": "markdown",
   "id": "3254b8d8-67c3-418f-ac3c-d20ce8c20552",
   "metadata": {},
   "source": [
    "Create a program that takes a string as input and removes all the\n",
    "spaces from it. Print the modified string without spaces."
   ]
  },
  {
   "cell_type": "code",
   "execution_count": 1,
   "id": "ab1e4c0a-6bad-44cc-86b8-4e59606d56ae",
   "metadata": {},
   "outputs": [
    {
     "name": "stdin",
     "output_type": "stream",
     "text": [
      "Enter the string: my name is rakesh\n"
     ]
    }
   ],
   "source": [
    "string = input(\"Enter the string:\")"
   ]
  },
  {
   "cell_type": "code",
   "execution_count": 2,
   "id": "be83175b-ecbb-42d4-9de8-e09f93547c07",
   "metadata": {},
   "outputs": [],
   "source": [
    "sp = string.replace(\" \",\"\")"
   ]
  },
  {
   "cell_type": "code",
   "execution_count": 5,
   "id": "11bde2bf-84f0-4d48-9846-180e55af3270",
   "metadata": {},
   "outputs": [
    {
     "name": "stdout",
     "output_type": "stream",
     "text": [
      "String after space removal: mynameisrakesh\n"
     ]
    }
   ],
   "source": [
    "print(\"String after space removal:\",sp)"
   ]
  },
  {
   "cell_type": "code",
   "execution_count": null,
   "id": "079619a6-4515-4cb9-9dcb-eaae78d7b00a",
   "metadata": {},
   "outputs": [],
   "source": []
  }
 ],
 "metadata": {
  "kernelspec": {
   "display_name": "Python 3 (ipykernel)",
   "language": "python",
   "name": "python3"
  },
  "language_info": {
   "codemirror_mode": {
    "name": "ipython",
    "version": 3
   },
   "file_extension": ".py",
   "mimetype": "text/x-python",
   "name": "python",
   "nbconvert_exporter": "python",
   "pygments_lexer": "ipython3",
   "version": "3.10.8"
  }
 },
 "nbformat": 4,
 "nbformat_minor": 5
}
